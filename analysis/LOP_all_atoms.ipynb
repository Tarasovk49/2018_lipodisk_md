{
 "cells": [
  {
   "cell_type": "code",
   "execution_count": 1,
   "metadata": {},
   "outputs": [],
   "source": [
    "import pandas as pd\n",
    "import matplotlib.pyplot as plt\n",
    "import numpy as np\n",
    "import MDAnalysis as mda\n",
    "from tqdm import notebook\n",
    "import scipy.optimize\n",
    "from mpl_toolkits.mplot3d import Axes3D"
   ]
  },
  {
   "cell_type": "code",
   "execution_count": 31,
   "metadata": {},
   "outputs": [],
   "source": [
    "step = 2 # Step of integration in fs\n",
    "write_freq = 5000 # Number of steps that elapse between writing coordinates to output trajectory file\n",
    "interval = int(500000/(step*write_freq)) # Interval to compute new normal to membrane plane (0.5 ns)\n",
    "#interval = 50\n",
    "s = 0 # in ps\n",
    "e = 4000 # in ps\n",
    "#e = 500000 # in ps\n",
    "start_frame = int(s/step)\n",
    "end_frame = int(e/step)"
   ]
  },
  {
   "cell_type": "code",
   "execution_count": 9,
   "metadata": {},
   "outputs": [],
   "source": [
    "membrane = 'lipodisk_npt.gro'\n",
    "traj = 'lipodisk_npt_2_whole_cluster_nojump_mol.xtc'\n",
    "universe = mda.Universe(membrane, traj)\n",
    "\n",
    "selection_planefit = 'not resid 111 106 and resname DMPC and name P'\n",
    "plane_group = universe.select_atoms(selection_planefit)"
   ]
  },
  {
   "cell_type": "code",
   "execution_count": 3,
   "metadata": {},
   "outputs": [],
   "source": [
    "def fitPlaneLTSQ(XYZ):\n",
    "    (rows, cols) = XYZ.shape\n",
    "    G = np.ones((rows, 3))\n",
    "    G[:, 0] = XYZ[:, 0]  #X\n",
    "    G[:, 1] = XYZ[:, 1]  #Y\n",
    "    Z = XYZ[:, 2]\n",
    "    (a, b, c),resid,rank,s = np.linalg.lstsq(G, Z)\n",
    "    normal = (a, b, -1)\n",
    "    nn = np.linalg.norm(normal)\n",
    "    normal = normal / nn\n",
    "    return (c, normal)\n",
    "\n",
    "def calculate_S(coordinates, normal):\n",
    "    cd = np.concatenate((coordinates[1::3]-coordinates[0::3], coordinates[2::3]-coordinates[0::3]), axis=0)\n",
    "    cd_r = np.sqrt(np.sum(np.power(cd,2), axis=1))\n",
    "    matrix_multiply = np.matmul(cd,normal)\n",
    "    cos_theta = matrix_multiply/cd_r\n",
    "    S_cd = -0.5*(3.*np.square(cos_theta)-1)\n",
    "    order_param = np.average(S_cd)\n",
    "    return order_param"
   ]
  },
  {
   "cell_type": "code",
   "execution_count": 4,
   "metadata": {},
   "outputs": [],
   "source": [
    "LOP_group_all = {}\n",
    "LOP_group_inner = {}\n",
    "LOP_group_outer = {}\n",
    "for atom_number in ['2','3','4','5','6','7','8','9','10','11','12','13','14']:\n",
    "    selection_all = 'not resid 111 106 and resname DMPC and (name C2{0} or name H{0}R or name H{0}S or name C3{0} or name H{0}X or name H{0}Y)'.format(atom_number)\n",
    "    selection_inner = 'not resid 111 106 and resname DMPC and (name C2{0} or name H{0}R or name H{0}S or name C3{0} or name H{0}X or name H{0}Y) and not same resid as (around 10 resname MAL MAR ST1 ST2 DB1 DB2 MAD MA2)'.format(atom_number)\n",
    "    selection_outer = 'not resid 111 106 and resname DMPC and (name C2{0} or name H{0}R or name H{0}S or name C3{0} or name H{0}X or name H{0}Y) and same resid as (around 10 resname MAL MAR ST1 ST2 DB1 DB2 MAD MA2)'.format(atom_number)\n",
    "    LOP_group_all[atom_number] = universe.select_atoms(selection_all)\n",
    "    LOP_group_inner[atom_number] = universe.select_atoms(selection_inner)\n",
    "    LOP_group_outer[atom_number] = universe.select_atoms(selection_outer)"
   ]
  },
  {
   "cell_type": "code",
   "execution_count": 32,
   "metadata": {},
   "outputs": [
    {
     "data": {
      "application/vnd.jupyter.widget-view+json": {
       "model_id": "84add166938e4399a5260422521fd161",
       "version_major": 2,
       "version_minor": 0
      },
      "text/plain": [
       "HBox(children=(FloatProgress(value=0.0, max=2001.0), HTML(value='')))"
      ]
     },
     "metadata": {},
     "output_type": "display_data"
    },
    {
     "name": "stderr",
     "output_type": "stream",
     "text": [
      "/home/tarasov/Software/anaconda2/envs/mdaenv/lib/python3.6/site-packages/ipykernel_launcher.py:7: FutureWarning: `rcond` parameter will change to the default of machine precision times ``max(M, N)`` where M and N are the input matrix dimensions.\n",
      "To use the future default and silence this warning we advise to pass `rcond=None`, to keep using the old, explicitly pass `rcond=-1`.\n",
      "  import sys\n"
     ]
    },
    {
     "name": "stdout",
     "output_type": "stream",
     "text": [
      "\n"
     ]
    }
   ],
   "source": [
    "data_all = pd.DataFrame(columns = ['C2','C3','C4','C5','C6','C7','C8','C9','C10','C11','C12','C13','C14'])\n",
    "data_inner = pd.DataFrame(columns = ['C2','C3','C4','C5','C6','C7','C8','C9','C10','C11','C12','C13','C14'])\n",
    "data_outer = pd.DataFrame(columns = ['C2','C3','C4','C5','C6','C7','C8','C9','C10','C11','C12','C13','C14'])\n",
    "\n",
    "for ts in notebook.tqdm(universe.trajectory):\n",
    "    if (ts.frame >= start_frame) and (ts.frame <= end_frame):\n",
    "        if ts.frame%interval == 0:\n",
    "            positions = plane_group.atoms.positions[:]\n",
    "            c, normal = fitPlaneLTSQ(positions)\n",
    "\n",
    "        OP_list_all = []\n",
    "        OP_list_inner = []\n",
    "        OP_list_outer = []\n",
    "        for atom_number in ['2','3','4','5','6','7','8','9','10','11','12','13','14']:\n",
    "            # ALL\n",
    "            coordinates_all = LOP_group_all[atom_number].atoms.positions[:]\n",
    "            order_param_all = calculate_S(coordinates_all,normal)\n",
    "            OP_list_all.append(order_param_all)\n",
    "            # INNER\n",
    "            coordinates_inner = LOP_group_inner[atom_number].atoms.positions[:]\n",
    "            order_param_inner = calculate_S(coordinates_inner,normal)\n",
    "            OP_list_inner.append(order_param_inner)\n",
    "            # OUTER\n",
    "            coordinates_outer = LOP_group_outer[atom_number].atoms.positions[:]\n",
    "            order_param_outer = calculate_S(coordinates_outer,normal)\n",
    "            OP_list_outer.append(order_param_outer)\n",
    "        # ALL    \n",
    "        a_series_all = pd.Series(OP_list_all, index = data_all.columns)\n",
    "        data_all = data_all.append(a_series_all, ignore_index=True)\n",
    "        # INNER\n",
    "        a_series_inner = pd.Series(OP_list_inner, index = data_inner.columns)\n",
    "        data_inner = data_inner.append(a_series_inner, ignore_index=True)\n",
    "        # OUTER\n",
    "        a_series_outer = pd.Series(OP_list_outer, index = data_outer.columns)\n",
    "        data_outer = data_outer.append(a_series_outer, ignore_index=True)\n",
    "    elif ts.frame > end_frame:\n",
    "        break"
   ]
  },
  {
   "cell_type": "code",
   "execution_count": 33,
   "metadata": {},
   "outputs": [
    {
     "data": {
      "image/png": "[encoded data removed]",
      "text/plain": [
       "<Figure size 432x288 with 1 Axes>"
      ]
     },
     "metadata": {
      "needs_background": "light"
     },
     "output_type": "display_data"
    }
   ],
   "source": [
    "data_all.mean().rename('All').plot(legend='True')\n",
    "data_inner.mean().rename('Inner').plot(legend='True')\n",
    "data_outer.mean().rename('Outer').plot(legend='True')\n",
    "plt.ylabel(u\"Order parameter, S\")\n",
    "plt.grid()\n",
    "#plt.show()\n",
    "plt.savefig('Lipid_OP_dynamics.png')"
   ]
  },
  {
   "cell_type": "code",
   "execution_count": null,
   "metadata": {},
   "outputs": [],
   "source": []
  }
 ],
 "metadata": {
  "kernelspec": {
   "display_name": "Python 3",
   "language": "python",
   "name": "python3"
  },
  "language_info": {
   "codemirror_mode": {
    "name": "ipython",
    "version": 3
   },
   "file_extension": ".py",
   "mimetype": "text/x-python",
   "name": "python",
   "nbconvert_exporter": "python",
   "pygments_lexer": "ipython3",
   "version": "3.6.7"
  }
 },
 "nbformat": 4,
 "nbformat_minor": 4
}
